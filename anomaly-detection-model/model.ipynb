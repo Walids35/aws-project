{
 "cells": [
  {
   "cell_type": "code",
   "execution_count": null,
   "id": "07af3316",
   "metadata": {},
   "outputs": [],
   "source": [
    "!pip insatll tensorflow kagglehub"
   ]
  },
  {
   "cell_type": "code",
   "execution_count": 2,
   "id": "0dd9d462",
   "metadata": {},
   "outputs": [
    {
     "name": "stdout",
     "output_type": "stream",
     "text": [
      "Collecting torch==2.0.1\n",
      "  Downloading torch-2.0.1-cp310-cp310-manylinux1_x86_64.whl.metadata (24 kB)\n",
      "Requirement already satisfied: filelock in /home/ec2-user/anaconda3/envs/python3/lib/python3.10/site-packages (from torch==2.0.1) (3.16.1)\n",
      "Requirement already satisfied: typing-extensions in /home/ec2-user/anaconda3/envs/python3/lib/python3.10/site-packages (from torch==2.0.1) (4.12.2)\n",
      "Requirement already satisfied: sympy in /home/ec2-user/anaconda3/envs/python3/lib/python3.10/site-packages (from torch==2.0.1) (1.13.1)\n",
      "Requirement already satisfied: networkx in /home/ec2-user/anaconda3/envs/python3/lib/python3.10/site-packages (from torch==2.0.1) (3.4)\n",
      "Requirement already satisfied: jinja2 in /home/ec2-user/anaconda3/envs/python3/lib/python3.10/site-packages (from torch==2.0.1) (3.1.4)\n",
      "Collecting nvidia-cuda-nvrtc-cu11==11.7.99 (from torch==2.0.1)\n",
      "  Downloading nvidia_cuda_nvrtc_cu11-11.7.99-2-py3-none-manylinux1_x86_64.whl.metadata (1.5 kB)\n",
      "Collecting nvidia-cuda-runtime-cu11==11.7.99 (from torch==2.0.1)\n",
      "  Downloading nvidia_cuda_runtime_cu11-11.7.99-py3-none-manylinux1_x86_64.whl.metadata (1.6 kB)\n",
      "Collecting nvidia-cuda-cupti-cu11==11.7.101 (from torch==2.0.1)\n",
      "  Downloading nvidia_cuda_cupti_cu11-11.7.101-py3-none-manylinux1_x86_64.whl.metadata (1.6 kB)\n",
      "Collecting nvidia-cudnn-cu11==8.5.0.96 (from torch==2.0.1)\n",
      "  Downloading nvidia_cudnn_cu11-8.5.0.96-2-py3-none-manylinux1_x86_64.whl.metadata (1.6 kB)\n",
      "Collecting nvidia-cublas-cu11==11.10.3.66 (from torch==2.0.1)\n",
      "  Downloading nvidia_cublas_cu11-11.10.3.66-py3-none-manylinux1_x86_64.whl.metadata (1.6 kB)\n",
      "Collecting nvidia-cufft-cu11==10.9.0.58 (from torch==2.0.1)\n",
      "  Downloading nvidia_cufft_cu11-10.9.0.58-py3-none-manylinux2014_x86_64.whl.metadata (1.5 kB)\n",
      "Collecting nvidia-curand-cu11==10.2.10.91 (from torch==2.0.1)\n",
      "  Downloading nvidia_curand_cu11-10.2.10.91-py3-none-manylinux1_x86_64.whl.metadata (1.6 kB)\n",
      "Collecting nvidia-cusolver-cu11==11.4.0.1 (from torch==2.0.1)\n",
      "  Downloading nvidia_cusolver_cu11-11.4.0.1-2-py3-none-manylinux1_x86_64.whl.metadata (1.6 kB)\n",
      "Collecting nvidia-cusparse-cu11==11.7.4.91 (from torch==2.0.1)\n",
      "  Downloading nvidia_cusparse_cu11-11.7.4.91-py3-none-manylinux1_x86_64.whl.metadata (1.6 kB)\n",
      "Collecting nvidia-nccl-cu11==2.14.3 (from torch==2.0.1)\n",
      "  Downloading nvidia_nccl_cu11-2.14.3-py3-none-manylinux1_x86_64.whl.metadata (1.8 kB)\n",
      "Collecting nvidia-nvtx-cu11==11.7.91 (from torch==2.0.1)\n",
      "  Downloading nvidia_nvtx_cu11-11.7.91-py3-none-manylinux1_x86_64.whl.metadata (1.7 kB)\n",
      "Collecting triton==2.0.0 (from torch==2.0.1)\n",
      "  Downloading triton-2.0.0-1-cp310-cp310-manylinux2014_x86_64.manylinux_2_17_x86_64.whl.metadata (1.0 kB)\n",
      "Requirement already satisfied: setuptools in /home/ec2-user/anaconda3/envs/python3/lib/python3.10/site-packages (from nvidia-cublas-cu11==11.10.3.66->torch==2.0.1) (75.1.0)\n",
      "Requirement already satisfied: wheel in /home/ec2-user/anaconda3/envs/python3/lib/python3.10/site-packages (from nvidia-cublas-cu11==11.10.3.66->torch==2.0.1) (0.44.0)\n",
      "Collecting cmake (from triton==2.0.0->torch==2.0.1)\n",
      "  Downloading cmake-3.31.1-py3-none-manylinux_2_17_x86_64.manylinux2014_x86_64.whl.metadata (6.5 kB)\n",
      "Collecting lit (from triton==2.0.0->torch==2.0.1)\n",
      "  Downloading lit-18.1.8-py3-none-any.whl.metadata (2.5 kB)\n",
      "Requirement already satisfied: MarkupSafe>=2.0 in /home/ec2-user/anaconda3/envs/python3/lib/python3.10/site-packages (from jinja2->torch==2.0.1) (3.0.2)\n",
      "Requirement already satisfied: mpmath<1.4,>=1.1.0 in /home/ec2-user/anaconda3/envs/python3/lib/python3.10/site-packages (from sympy->torch==2.0.1) (1.3.0)\n",
      "Downloading torch-2.0.1-cp310-cp310-manylinux1_x86_64.whl (619.9 MB)\n",
      "\u001b[2K   \u001b[90m━━━━━━━━━━━━━━━━━━━━━━━━━━━━━━━━━━━━━━━━\u001b[0m \u001b[32m619.9/619.9 MB\u001b[0m \u001b[31m24.6 MB/s\u001b[0m eta \u001b[36m0:00:00\u001b[0m00:01\u001b[0m00:01\u001b[0m\n",
      "\u001b[?25hDownloading nvidia_cublas_cu11-11.10.3.66-py3-none-manylinux1_x86_64.whl (317.1 MB)\n",
      "\u001b[2K   \u001b[90m━━━━━━━━━━━━━━━━━━━━━━━━━━━━━━━━━━━━━━━━\u001b[0m \u001b[32m317.1/317.1 MB\u001b[0m \u001b[31m41.9 MB/s\u001b[0m eta \u001b[36m0:00:00\u001b[0m00:01\u001b[0m00:01\u001b[0m\n",
      "\u001b[?25hDownloading nvidia_cuda_cupti_cu11-11.7.101-py3-none-manylinux1_x86_64.whl (11.8 MB)\n",
      "\u001b[2K   \u001b[90m━━━━━━━━━━━━━━━━━━━━━━━━━━━━━━━━━━━━━━━━\u001b[0m \u001b[32m11.8/11.8 MB\u001b[0m \u001b[31m83.3 MB/s\u001b[0m eta \u001b[36m0:00:00\u001b[0m\n",
      "\u001b[?25hDownloading nvidia_cuda_nvrtc_cu11-11.7.99-2-py3-none-manylinux1_x86_64.whl (21.0 MB)\n",
      "\u001b[2K   \u001b[90m━━━━━━━━━━━━━━━━━━━━━━━━━━━━━━━━━━━━━━━━\u001b[0m \u001b[32m21.0/21.0 MB\u001b[0m \u001b[31m131.0 MB/s\u001b[0m eta \u001b[36m0:00:00\u001b[0m\n",
      "\u001b[?25hDownloading nvidia_cuda_runtime_cu11-11.7.99-py3-none-manylinux1_x86_64.whl (849 kB)\n",
      "\u001b[2K   \u001b[90m━━━━━━━━━━━━━━━━━━━━━━━━━━━━━━━━━━━━━━━━\u001b[0m \u001b[32m849.3/849.3 kB\u001b[0m \u001b[31m75.2 MB/s\u001b[0m eta \u001b[36m0:00:00\u001b[0m\n",
      "\u001b[?25hDownloading nvidia_cudnn_cu11-8.5.0.96-2-py3-none-manylinux1_x86_64.whl (557.1 MB)\n",
      "\u001b[2K   \u001b[90m━━━━━━━━━━━━━━━━━━━━━━━━━━━━━━━━━━━━━━━━\u001b[0m \u001b[32m557.1/557.1 MB\u001b[0m \u001b[31m23.3 MB/s\u001b[0m eta \u001b[36m0:00:00\u001b[0m00:01\u001b[0m00:01\u001b[0m\n",
      "\u001b[?25hDownloading nvidia_cufft_cu11-10.9.0.58-py3-none-manylinux2014_x86_64.whl (168.4 MB)\n",
      "\u001b[2K   \u001b[90m━━━━━━━━━━━━━━━━━━━━━━━━━━━━━━━━━━━━━━━━\u001b[0m \u001b[32m168.4/168.4 MB\u001b[0m \u001b[31m61.0 MB/s\u001b[0m eta \u001b[36m0:00:00\u001b[0m00:01\u001b[0m00:01\u001b[0m\n",
      "\u001b[?25hDownloading nvidia_curand_cu11-10.2.10.91-py3-none-manylinux1_x86_64.whl (54.6 MB)\n",
      "\u001b[2K   \u001b[90m━━━━━━━━━━━━━━━━━━━━━━━━━━━━━━━━━━━━━━━━\u001b[0m \u001b[32m54.6/54.6 MB\u001b[0m \u001b[31m75.9 MB/s\u001b[0m eta \u001b[36m0:00:00\u001b[0m:00:01\u001b[0m00:01\u001b[0m\n",
      "\u001b[?25hDownloading nvidia_cusolver_cu11-11.4.0.1-2-py3-none-manylinux1_x86_64.whl (102.6 MB)\n",
      "\u001b[2K   \u001b[90m━━━━━━━━━━━━━━━━━━━━━━━━━━━━━━━━━━━━━━━━\u001b[0m \u001b[32m102.6/102.6 MB\u001b[0m \u001b[31m56.6 MB/s\u001b[0m eta \u001b[36m0:00:00\u001b[0m00:01\u001b[0m00:01\u001b[0m\n",
      "\u001b[?25hDownloading nvidia_cusparse_cu11-11.7.4.91-py3-none-manylinux1_x86_64.whl (173.2 MB)\n",
      "\u001b[2K   \u001b[90m━━━━━━━━━━━━━━━━━━━━━━━━━━━━━━━━━━━━━━━━\u001b[0m \u001b[32m173.2/173.2 MB\u001b[0m \u001b[31m50.3 MB/s\u001b[0m eta \u001b[36m0:00:00\u001b[0m00:01\u001b[0m00:01\u001b[0m\n",
      "\u001b[?25hDownloading nvidia_nccl_cu11-2.14.3-py3-none-manylinux1_x86_64.whl (177.1 MB)\n",
      "\u001b[2K   \u001b[90m━━━━━━━━━━━━━━━━━━━━━━━━━━━━━━━━━━━━━━━━\u001b[0m \u001b[32m177.1/177.1 MB\u001b[0m \u001b[31m55.6 MB/s\u001b[0m eta \u001b[36m0:00:00\u001b[0m00:01\u001b[0m00:01\u001b[0m\n",
      "\u001b[?25hDownloading nvidia_nvtx_cu11-11.7.91-py3-none-manylinux1_x86_64.whl (98 kB)\n",
      "Downloading triton-2.0.0-1-cp310-cp310-manylinux2014_x86_64.manylinux_2_17_x86_64.whl (63.3 MB)\n",
      "\u001b[2K   \u001b[90m━━━━━━━━━━━━━━━━━━━━━━━━━━━━━━━━━━━━━━━━\u001b[0m \u001b[32m63.3/63.3 MB\u001b[0m \u001b[31m101.9 MB/s\u001b[0m eta \u001b[36m0:00:00\u001b[0m00:01\u001b[0m00:01\u001b[0m\n",
      "\u001b[?25hDownloading cmake-3.31.1-py3-none-manylinux_2_17_x86_64.manylinux2014_x86_64.whl (27.8 MB)\n",
      "\u001b[2K   \u001b[90m━━━━━━━━━━━━━━━━━━━━━━━━━━━━━━━━━━━━━━━━\u001b[0m \u001b[32m27.8/27.8 MB\u001b[0m \u001b[31m98.7 MB/s\u001b[0m eta \u001b[36m0:00:00\u001b[0m:00:01\u001b[0m\n",
      "\u001b[?25hDownloading lit-18.1.8-py3-none-any.whl (96 kB)\n",
      "Installing collected packages: lit, nvidia-nvtx-cu11, nvidia-nccl-cu11, nvidia-cusparse-cu11, nvidia-curand-cu11, nvidia-cufft-cu11, nvidia-cuda-runtime-cu11, nvidia-cuda-nvrtc-cu11, nvidia-cuda-cupti-cu11, nvidia-cublas-cu11, cmake, nvidia-cusolver-cu11, nvidia-cudnn-cu11, triton, torch\n",
      "  Attempting uninstall: triton\n",
      "    Found existing installation: triton 3.1.0\n",
      "    Uninstalling triton-3.1.0:\n",
      "      Successfully uninstalled triton-3.1.0\n",
      "  Attempting uninstall: torch\n",
      "    Found existing installation: torch 2.5.1\n",
      "    Uninstalling torch-2.5.1:\n",
      "      Successfully uninstalled torch-2.5.1\n",
      "Successfully installed cmake-3.31.1 lit-18.1.8 nvidia-cublas-cu11-11.10.3.66 nvidia-cuda-cupti-cu11-11.7.101 nvidia-cuda-nvrtc-cu11-11.7.99 nvidia-cuda-runtime-cu11-11.7.99 nvidia-cudnn-cu11-8.5.0.96 nvidia-cufft-cu11-10.9.0.58 nvidia-curand-cu11-10.2.10.91 nvidia-cusolver-cu11-11.4.0.1 nvidia-cusparse-cu11-11.7.4.91 nvidia-nccl-cu11-2.14.3 nvidia-nvtx-cu11-11.7.91 torch-2.0.1 triton-2.0.0\n"
     ]
    }
   ],
   "source": [
    "!pip3 install torch==2.0.1"
   ]
  },
  {
   "cell_type": "code",
   "execution_count": 2,
   "id": "10ff6e2b",
   "metadata": {},
   "outputs": [
    {
     "name": "stdout",
     "output_type": "stream",
     "text": [
      "nvcc: NVIDIA (R) Cuda compiler driver\r\n",
      "Copyright (c) 2005-2023 NVIDIA Corporation\r\n",
      "Built on Mon_Apr__3_17:16:06_PDT_2023\r\n",
      "Cuda compilation tools, release 12.1, V12.1.105\r\n",
      "Build cuda_12.1.r12.1/compiler.32688072_0\r\n"
     ]
    }
   ],
   "source": [
    "!nvcc --version\n"
   ]
  },
  {
   "cell_type": "code",
   "execution_count": 57,
   "id": "1a3175d8",
   "metadata": {},
   "outputs": [],
   "source": [
    "import pandas as pd\n",
    "import numpy as np\n",
    "from sklearn.model_selection import train_test_split\n",
    "from sklearn.preprocessing import StandardScaler\n",
    "from transformers import BertTokenizer, BertModel\n",
    "import torch\n",
    "from tensorflow.keras.models import Model\n",
    "from tensorflow.keras.layers import Input, Dense, Conv1D, MaxPooling1D, UpSampling1D, BatchNormalization\n",
    "from tensorflow.keras.optimizers import Adam\n",
    "from tensorflow.keras.regularizers import l2\n"
   ]
  },
  {
   "cell_type": "code",
   "execution_count": null,
   "id": "5e5ef2ca",
   "metadata": {},
   "outputs": [],
   "source": [
    "import kagglehub\n",
    "\n",
    "# Download latest version\n",
    "path = kagglehub.dataset_download(\"walidsiala/khalil\")\n",
    "\n",
    "print(\"Path to dataset files:\", path)"
   ]
  },
  {
   "cell_type": "code",
   "execution_count": 2,
   "id": "7f38c03b",
   "metadata": {},
   "outputs": [
    {
     "name": "stdout",
     "output_type": "stream",
     "text": [
      "                    @timestamp  \\\n",
      "0  2024-12-14T09:25:18.770794Z   \n",
      "1  2024-03-25T17:13:23.331076Z   \n",
      "2  2024-01-19T13:21:52.166780Z   \n",
      "3  2024-12-07T19:17:49.042528Z   \n",
      "4  2024-07-22T12:22:07.043475Z   \n",
      "\n",
      "                                            @message           @logStream  \\\n",
      "0  ip-10-0-0-120 nginx[1235]: 192.168.1.4 - - [14...  i-0e67f88f94a3b12c7   \n",
      "1  ip-10-0-0-130 java[4521]: [INFO] [25/Mar/2024 ...  i-0a23b56c78e9d0f12   \n",
      "2  ip-10-0-0-160 app[9121]: [19/Jan/2024 13:21:52...  i-0a23b56c78e9d0f12   \n",
      "3  ip-10-0-0-150 docker[5321]: [07/Dec/2024 19:17...  i-0d52e55d73f781a12   \n",
      "4  ip-10-0-0-110 python[7039]: 127.0.0.1 - - [22/...  i-0a23b56c78e9d0f12   \n",
      "\n",
      "                                    @log  \n",
      "0  148761659012:database_connection_logs  \n",
      "1  148761659012:database_connection_logs  \n",
      "2   148761659012:app_frontend_accesslogs  \n",
      "3             148761659012:security_logs  \n",
      "4   148761659012:network_monitoring_logs  \n"
     ]
    }
   ],
   "source": [
    "# Step 1: Load the dataset\n",
    "data = pd.read_csv('') #fill with the dataset file path\n",
    "print(data.head())"
   ]
  },
  {
   "cell_type": "code",
   "execution_count": 3,
   "id": "e6ceca7e",
   "metadata": {},
   "outputs": [],
   "source": [
    "# Step 2: Extract and convert timestamps\n",
    "data['timestamp'] = pd.to_datetime(data['@timestamp'])\n",
    "data['hour'] = data['timestamp'].dt.hour\n",
    "data['day_of_week'] = data['timestamp'].dt.dayofweek\n",
    "\n",
    "# Step 3: Encode the @log field (e.g., using one-hot encoding)\n",
    "log_type_encoded = pd.get_dummies(data['@log'].str.split(':').str[1], prefix='log_type')\n",
    "data = pd.concat([data, log_type_encoded], axis=1)\n",
    "data = data.drop('@log', axis=1)\n",
    "\n",
    "# Step 4: One-hot encode the @logStream field\n",
    "log_stream_encoded = pd.get_dummies(data['@logStream'], prefix='log_stream')\n",
    "data = pd.concat([data, log_stream_encoded], axis=1)\n",
    "data = data.drop('@logStream', axis=1)"
   ]
  },
  {
   "cell_type": "code",
   "execution_count": 4,
   "id": "373f5f5a",
   "metadata": {},
   "outputs": [],
   "source": [
    "# Load pre-trained BERT tokenizer and model\n",
    "tokenizer = BertTokenizer.from_pretrained('bert-base-uncased')\n",
    "bert_model = BertModel.from_pretrained('bert-base-uncased')"
   ]
  },
  {
   "cell_type": "code",
   "execution_count": 5,
   "id": "38662018",
   "metadata": {},
   "outputs": [],
   "source": [
    "# Function to generate BERT embeddings\n",
    "def get_bert_embeddings(texts):\n",
    "    embeddings = []\n",
    "    for text in texts:\n",
    "        inputs = tokenizer(text, return_tensors='pt', padding=True, truncation=True, max_length=512)\n",
    "        with torch.no_grad():\n",
    "            outputs = bert_model(**inputs)\n",
    "        embeddings.append(outputs.last_hidden_state.mean(dim=1).squeeze().numpy())\n",
    "    return np.array(embeddings)"
   ]
  },
  {
   "cell_type": "code",
   "execution_count": 6,
   "id": "008cd298",
   "metadata": {},
   "outputs": [],
   "source": [
    "# Generate embeddings for @message\n",
    "message_bert_embeddings = get_bert_embeddings(data.get('@message', []))"
   ]
  },
  {
   "cell_type": "code",
   "execution_count": 7,
   "id": "4f41a586",
   "metadata": {},
   "outputs": [],
   "source": [
    "data = data.drop('@message', axis=1)  # Drop original text column"
   ]
  },
  {
   "cell_type": "code",
   "execution_count": 14,
   "id": "4ccdf11f",
   "metadata": {},
   "outputs": [
    {
     "name": "stdout",
     "output_type": "stream",
     "text": [
      "Index(['@timestamp', 'timestamp', 'hour', 'day_of_week',\n",
      "       'log_type_api_gateway_logs', 'log_type_app_frontend_accesslogs',\n",
      "       'log_type_database_connection_logs', 'log_type_ec2_backend_systemlogs',\n",
      "       'log_type_network_monitoring_logs', 'log_type_security_logs',\n",
      "       'log_stream_i-0a23b56c78e9d0f12', 'log_stream_i-0c14ee92604d53e35',\n",
      "       'log_stream_i-0c91ee99911134ff', 'log_stream_i-0d52e55d73f781a12',\n",
      "       'log_stream_i-0e67f88f94a3b12c7', 'log_stream_i-0f89aa12345dabc12'],\n",
      "      dtype='object')\n"
     ]
    }
   ],
   "source": [
    "print(data.columns)\n"
   ]
  },
  {
   "cell_type": "code",
   "execution_count": 15,
   "id": "97d70d86",
   "metadata": {},
   "outputs": [
    {
     "name": "stdout",
     "output_type": "stream",
     "text": [
      "(1000, 768)\n"
     ]
    }
   ],
   "source": [
    "print(message_bert_embeddings.shape)\n",
    "# Output: (num_rows, 768)\n"
   ]
  },
  {
   "cell_type": "code",
   "execution_count": 16,
   "id": "953af1a9",
   "metadata": {},
   "outputs": [],
   "source": [
    "# Combine numerical, one-hot, and BERT features\n",
    "numerical_features = data[['hour', 'day_of_week']].values\n",
    "categorical_features = data.drop(columns=['@timestamp', 'timestamp', 'hour', 'day_of_week']).values\n",
    "all_features = np.hstack([message_bert_embeddings, numerical_features, categorical_features])\n",
    "\n",
    "# Normalize the features\n",
    "scaler = StandardScaler()\n",
    "all_features = scaler.fit_transform(all_features)\n",
    "\n",
    "# Split the dataset\n",
    "X_train, X_test = train_test_split(all_features, test_size=0.2, random_state=42)"
   ]
  },
  {
   "cell_type": "code",
   "execution_count": null,
   "id": "a2541f0f",
   "metadata": {},
   "outputs": [
    {
     "name": "stdout",
     "output_type": "stream",
     "text": [
      "Epoch 1/50\n",
      "4/4 [==============================] - 11s 2s/step - loss: 1.4536 - accuracy: 0.0000e+00 - val_loss: 1.5009 - val_accuracy: 0.0000e+00\n",
      "Epoch 2/50\n",
      "4/4 [==============================] - 10s 2s/step - loss: 1.3259 - accuracy: 0.0000e+00 - val_loss: 1.4587 - val_accuracy: 0.0000e+00\n",
      "Epoch 3/50\n",
      "4/4 [==============================] - 10s 2s/step - loss: 1.2106 - accuracy: 0.0000e+00 - val_loss: 1.3890 - val_accuracy: 0.0000e+00\n",
      "Epoch 4/50\n",
      "4/4 [==============================] - 11s 2s/step - loss: 1.1912 - accuracy: 0.0000e+00 - val_loss: 1.3345 - val_accuracy: 0.0000e+00\n",
      "Epoch 5/50\n",
      "4/4 [==============================] - 11s 3s/step - loss: 1.1852 - accuracy: 0.0000e+00 - val_loss: 1.3102 - val_accuracy: 0.0000e+00\n",
      "Epoch 6/50\n",
      "4/4 [==============================] - 11s 2s/step - loss: 1.1735 - accuracy: 0.0000e+00 - val_loss: 1.3107 - val_accuracy: 0.0000e+00\n",
      "Epoch 7/50\n",
      "4/4 [==============================] - 11s 2s/step - loss: 1.1559 - accuracy: 0.0000e+00 - val_loss: 1.3309 - val_accuracy: 0.0000e+00\n",
      "Epoch 8/50\n",
      "4/4 [==============================] - 11s 3s/step - loss: 1.1341 - accuracy: 0.0000e+00 - val_loss: 1.3583 - val_accuracy: 0.0000e+00\n",
      "Epoch 9/50\n",
      "4/4 [==============================] - 11s 3s/step - loss: 1.1150 - accuracy: 0.0000e+00 - val_loss: 1.3738 - val_accuracy: 0.0000e+00\n",
      "Epoch 10/50\n",
      "4/4 [==============================] - 12s 3s/step - loss: 1.1007 - accuracy: 0.0000e+00 - val_loss: 1.3656 - val_accuracy: 0.0000e+00\n",
      "Epoch 11/50\n",
      "4/4 [==============================] - 10s 2s/step - loss: 1.0819 - accuracy: 0.0000e+00 - val_loss: 1.3351 - val_accuracy: 0.0000e+00\n",
      "Epoch 12/50\n",
      "4/4 [==============================] - 10s 2s/step - loss: 1.0598 - accuracy: 0.0000e+00 - val_loss: 1.2979 - val_accuracy: 0.0000e+00\n",
      "Epoch 13/50\n",
      "4/4 [==============================] - 10s 2s/step - loss: 1.0390 - accuracy: 0.0000e+00 - val_loss: 1.2713 - val_accuracy: 0.0000e+00\n",
      "Epoch 14/50\n",
      "4/4 [==============================] - 11s 3s/step - loss: 1.0181 - accuracy: 0.0000e+00 - val_loss: 1.2463 - val_accuracy: 0.0000e+00\n",
      "Epoch 15/50\n",
      "4/4 [==============================] - 11s 2s/step - loss: 0.9962 - accuracy: 0.0000e+00 - val_loss: 1.2079 - val_accuracy: 0.0000e+00\n",
      "Epoch 16/50\n",
      "4/4 [==============================] - 11s 3s/step - loss: 0.9750 - accuracy: 0.0000e+00 - val_loss: 1.1813 - val_accuracy: 0.0000e+00\n",
      "Epoch 17/50\n",
      "4/4 [==============================] - 11s 3s/step - loss: 0.9582 - accuracy: 0.0000e+00 - val_loss: 1.1559 - val_accuracy: 0.0000e+00\n",
      "Epoch 18/50\n",
      "4/4 [==============================] - 11s 3s/step - loss: 0.9436 - accuracy: 0.0000e+00 - val_loss: 1.1385 - val_accuracy: 0.0000e+00\n",
      "Epoch 19/50\n",
      "4/4 [==============================] - 10s 2s/step - loss: 0.9318 - accuracy: 0.0000e+00 - val_loss: 1.1228 - val_accuracy: 0.0000e+00\n",
      "Epoch 20/50\n",
      "4/4 [==============================] - 11s 3s/step - loss: 0.9223 - accuracy: 0.0000e+00 - val_loss: 1.1074 - val_accuracy: 0.0000e+00\n",
      "Epoch 21/50\n",
      "4/4 [==============================] - 11s 3s/step - loss: 0.9134 - accuracy: 0.0000e+00 - val_loss: 1.0957 - val_accuracy: 0.0000e+00\n",
      "Epoch 22/50\n",
      "4/4 [==============================] - 11s 3s/step - loss: 0.9053 - accuracy: 0.0000e+00 - val_loss: 1.0934 - val_accuracy: 0.0000e+00\n",
      "Epoch 23/50\n",
      "4/4 [==============================] - 11s 2s/step - loss: 0.8975 - accuracy: 0.0000e+00 - val_loss: 1.0863 - val_accuracy: 0.0000e+00\n",
      "Epoch 24/50\n",
      "4/4 [==============================] - 10s 2s/step - loss: 0.8897 - accuracy: 0.0000e+00 - val_loss: 1.0809 - val_accuracy: 0.0000e+00\n",
      "Epoch 25/50\n",
      "4/4 [==============================] - 10s 2s/step - loss: 0.8817 - accuracy: 0.0000e+00 - val_loss: 1.0771 - val_accuracy: 0.0000e+00\n",
      "Epoch 26/50\n",
      "4/4 [==============================] - 14s 4s/step - loss: 0.8733 - accuracy: 0.0000e+00 - val_loss: 1.0687 - val_accuracy: 0.0000e+00\n",
      "Epoch 27/50\n",
      "4/4 [==============================] - 11s 3s/step - loss: 0.8648 - accuracy: 0.0000e+00 - val_loss: 1.0600 - val_accuracy: 0.0000e+00\n",
      "Epoch 28/50\n",
      "4/4 [==============================] - 12s 3s/step - loss: 0.8559 - accuracy: 0.0000e+00 - val_loss: 1.0489 - val_accuracy: 0.0000e+00\n",
      "Epoch 29/50\n",
      "4/4 [==============================] - 11s 3s/step - loss: 0.8467 - accuracy: 0.0000e+00 - val_loss: 1.0390 - val_accuracy: 0.0000e+00\n",
      "Epoch 30/50\n",
      "4/4 [==============================] - 11s 2s/step - loss: 0.8376 - accuracy: 0.0000e+00 - val_loss: 1.0297 - val_accuracy: 0.0000e+00\n",
      "Epoch 31/50\n",
      "4/4 [==============================] - 12s 3s/step - loss: 0.8282 - accuracy: 0.0000e+00 - val_loss: 1.0195 - val_accuracy: 0.0000e+00\n",
      "Epoch 32/50\n",
      "4/4 [==============================] - 11s 3s/step - loss: 0.8186 - accuracy: 0.0000e+00 - val_loss: 1.0061 - val_accuracy: 0.0000e+00\n",
      "Epoch 33/50\n",
      "4/4 [==============================] - 11s 3s/step - loss: 0.8086 - accuracy: 0.0000e+00 - val_loss: 0.9934 - val_accuracy: 0.0000e+00\n",
      "Epoch 34/50\n",
      "4/4 [==============================] - 11s 2s/step - loss: 0.7981 - accuracy: 0.0000e+00 - val_loss: 0.9830 - val_accuracy: 0.0000e+00\n",
      "Epoch 35/50\n",
      "4/4 [==============================] - 10s 2s/step - loss: 0.7873 - accuracy: 0.0000e+00 - val_loss: 0.9742 - val_accuracy: 0.0000e+00\n",
      "Epoch 36/50\n",
      "4/4 [==============================] - 10s 2s/step - loss: 0.7765 - accuracy: 0.0000e+00 - val_loss: 0.9617 - val_accuracy: 0.0000e+00\n",
      "Epoch 37/50\n",
      "4/4 [==============================] - 10s 2s/step - loss: 0.7661 - accuracy: 0.0000e+00 - val_loss: 0.9479 - val_accuracy: 0.0000e+00\n",
      "Epoch 38/50\n",
      "4/4 [==============================] - 10s 2s/step - loss: 0.7559 - accuracy: 0.0000e+00 - val_loss: 0.9328 - val_accuracy: 0.0000e+00\n",
      "Epoch 39/50\n",
      "4/4 [==============================] - 10s 2s/step - loss: 0.7460 - accuracy: 0.0000e+00 - val_loss: 0.9147 - val_accuracy: 0.0000e+00\n",
      "Epoch 40/50\n",
      "4/4 [==============================] - 10s 2s/step - loss: 0.7361 - accuracy: 0.0000e+00 - val_loss: 0.9099 - val_accuracy: 0.0000e+00\n",
      "Epoch 41/50\n",
      "4/4 [==============================] - 10s 2s/step - loss: 0.7254 - accuracy: 0.0000e+00 - val_loss: 0.8996 - val_accuracy: 0.0000e+00\n",
      "Epoch 42/50\n",
      "4/4 [==============================] - 11s 3s/step - loss: 0.7150 - accuracy: 0.0000e+00 - val_loss: 0.8929 - val_accuracy: 0.0000e+00\n",
      "Epoch 43/50\n",
      "4/4 [==============================] - 13s 3s/step - loss: 0.7060 - accuracy: 0.0000e+00 - val_loss: 0.8818 - val_accuracy: 0.0000e+00\n",
      "Epoch 44/50\n",
      "4/4 [==============================] - 10s 2s/step - loss: 0.6986 - accuracy: 0.0000e+00 - val_loss: 0.8664 - val_accuracy: 0.0000e+00\n",
      "Epoch 45/50\n",
      "4/4 [==============================] - 10s 2s/step - loss: 0.6920 - accuracy: 0.0000e+00 - val_loss: 0.8575 - val_accuracy: 0.0000e+00\n",
      "Epoch 46/50\n",
      "4/4 [==============================] - 10s 2s/step - loss: 0.6861 - accuracy: 0.0000e+00 - val_loss: 0.8478 - val_accuracy: 0.0000e+00\n",
      "Epoch 47/50\n",
      "4/4 [==============================] - 10s 2s/step - loss: 0.6806 - accuracy: 0.0000e+00 - val_loss: 0.8374 - val_accuracy: 0.0000e+00\n",
      "Epoch 48/50\n",
      "4/4 [==============================] - 11s 3s/step - loss: 0.6757 - accuracy: 0.0000e+00 - val_loss: 0.8403 - val_accuracy: 0.0000e+00\n",
      "Epoch 49/50\n",
      "4/4 [==============================] - 11s 2s/step - loss: 0.6713 - accuracy: 0.0000e+00 - val_loss: 0.8343 - val_accuracy: 0.0000e+00\n",
      "Epoch 50/50\n",
      "4/4 [==============================] - 11s 3s/step - loss: 0.6672 - accuracy: 0.0000e+00 - val_loss: 0.8177 - val_accuracy: 0.0000e+00\n"
     ]
    }
   ],
   "source": [
    "from tensorflow.keras.layers import Conv2D, MaxPooling2D, UpSampling2D, BatchNormalization, Dense, Lambda, Input\n",
    "from tensorflow.keras.models import Model\n",
    "from tensorflow.keras.regularizers import l2\n",
    "\n",
    "# Function to crop the output to the desired size (782, 1)\n",
    "def crop_output(x):\n",
    "    return x[:, :782, :]\n",
    "\n",
    "# Reshape data for Conv2D (Convert from 1D to 2D)\n",
    "# Assuming X_train and X_test are 2D arrays with shape (samples, timesteps)\n",
    "X_train_reshaped = X_train[:, :, np.newaxis]  # Shape: (samples, timesteps, 1)\n",
    "X_test_reshaped = X_test[:, :, np.newaxis]    # Shape: (samples, timesteps, 1)\n",
    "\n",
    "# Further reshape to 2D (adding height and width for Conv2D)\n",
    "X_train_reshaped = X_train_reshaped[..., np.newaxis]  # Shape: (samples, timesteps, 1, 1)\n",
    "X_test_reshaped = X_test_reshaped[..., np.newaxis]    # Shape: (samples, timesteps, 1, 1)\n",
    "\n",
    "# Define the autoencoder architecture\n",
    "input_layer = Input(shape=(X_train_reshaped.shape[1], X_train_reshaped.shape[2], 1))  # 2D Conv input\n",
    "\n",
    "# Encoder part\n",
    "x = Conv2D(64, kernel_size=(3, 3), activation='relu', padding='same')(input_layer)\n",
    "x = MaxPooling2D(pool_size=(2, 2), padding='same')(x)\n",
    "x = BatchNormalization()(x)\n",
    "x = Conv2D(32, kernel_size=(3, 3), activation='relu', padding='same')(x)\n",
    "x = MaxPooling2D(pool_size=(2, 2), padding='same')(x)\n",
    "\n",
    "# Latent space\n",
    "x = Dense(16, activation='relu', kernel_regularizer=l2(0.01))(x)\n",
    "\n",
    "# Decoder with modified upsampling\n",
    "x = Conv2D(32, kernel_size=(3, 3), activation='relu', padding='same')(x)\n",
    "x = UpSampling2D(size=(2, 2))(x)  # Adjust to the required size\n",
    "x = Conv2D(64, kernel_size=(3, 3), activation='relu', padding='same')(x)\n",
    "x = UpSampling2D(size=(2, 2))(x)  # Adjust if necessary\n",
    "\n",
    "# Final output layer\n",
    "output_layer = Conv2D(1, kernel_size=(3, 3), activation='sigmoid', padding='same')(x)\n",
    "\n",
    "# Apply the Lambda layer to crop the output\n",
    "output_layer = Lambda(crop_output)(output_layer)\n",
    "\n",
    "# Compile the autoencoder model\n",
    "autoencoder = Model(inputs=input_layer, outputs=output_layer)\n",
    "\n",
    "# Compile the model\n",
    "autoencoder.compile(optimizer='adam', loss='mse', metrics=['accuracy'])\n",
    "\n",
    "# Train the model\n",
    "history = autoencoder.fit(\n",
    "    X_train_reshaped, X_train_reshaped, \n",
    "    epochs=50, \n",
    "    batch_size=256, \n",
    "    validation_data=(X_test_reshaped, X_test_reshaped)\n",
    ")\n"
   ]
  },
  {
   "cell_type": "code",
   "execution_count": 30,
   "id": "ba727c2d",
   "metadata": {},
   "outputs": [
    {
     "name": "stdout",
     "output_type": "stream",
     "text": [
      "7/7 [==============================] - 0s 58ms/step - loss: 0.8177 - accuracy: 0.0000e+00\n",
      "Test Loss: [0.8176958560943604, 0.0]\n"
     ]
    },
    {
     "data": {
      "image/png": "[encoded data removed]",
      "text/plain": [
       "<Figure size 640x480 with 1 Axes>"
      ]
     },
     "metadata": {},
     "output_type": "display_data"
    }
   ],
   "source": [
    "# Evaluate the model\n",
    "loss = autoencoder.evaluate(X_test_reshaped, X_test_reshaped)\n",
    "print(f\"Test Loss: {loss}\")\n",
    "\n",
    "# Visualize training history\n",
    "import matplotlib.pyplot as plt\n",
    "plt.plot(history.history['loss'], label='Training Loss')\n",
    "plt.plot(history.history['val_loss'], label='Validation Loss')\n",
    "plt.legend()\n",
    "plt.title(\"Autoencoder Loss\")\n",
    "plt.show()\n"
   ]
  },
  {
   "cell_type": "code",
   "execution_count": 31,
   "id": "601200eb",
   "metadata": {},
   "outputs": [
    {
     "name": "stdout",
     "output_type": "stream",
     "text": [
      "7/7 [==============================] - 1s 55ms/step\n",
      "Number of anomalies detected: 40\n"
     ]
    }
   ],
   "source": [
    "# Calculate reconstruction error for the test set\n",
    "reconstructions = autoencoder.predict(X_test_reshaped)\n",
    "reconstruction_error = np.mean(np.square(X_test_reshaped - reconstructions), axis=1)\n",
    "\n",
    "# Set a threshold for anomalies (e.g., 95th percentile of reconstruction error)\n",
    "threshold = np.percentile(reconstruction_error, 95)\n",
    "\n",
    "# Detect anomalies\n",
    "anomalies = reconstruction_error > threshold\n",
    "print(f\"Number of anomalies detected: {np.sum(anomalies)}\")\n"
   ]
  },
  {
   "cell_type": "code",
   "execution_count": 32,
   "id": "b439e8c7",
   "metadata": {},
   "outputs": [
    {
     "name": "stderr",
     "output_type": "stream",
     "text": [
      "WARNING:absl:Found untraced functions such as _jit_compiled_convolution_op, _jit_compiled_convolution_op, _jit_compiled_convolution_op, _jit_compiled_convolution_op, _jit_compiled_convolution_op while saving (showing 5 of 5). These functions will not be directly callable after loading.\n"
     ]
    },
    {
     "name": "stdout",
     "output_type": "stream",
     "text": [
      "INFO:tensorflow:Assets written to: model/autoencoder_model/1/assets\n"
     ]
    },
    {
     "name": "stderr",
     "output_type": "stream",
     "text": [
      "INFO:tensorflow:Assets written to: model/autoencoder_model/1/assets\n"
     ]
    }
   ],
   "source": [
    "autoencoder.save('model/autoencoder_model/1')  # Add version number\n"
   ]
  },
  {
   "cell_type": "code",
   "execution_count": 33,
   "id": "753c4f9b",
   "metadata": {},
   "outputs": [
    {
     "name": "stdout",
     "output_type": "stream",
     "text": [
      "autoencoder_model/\r\n",
      "autoencoder_model/1/\r\n",
      "autoencoder_model/1/variables/\r\n",
      "autoencoder_model/1/variables/variables.index\r\n",
      "autoencoder_model/1/variables/variables.data-00000-of-00001\r\n",
      "autoencoder_model/1/saved_model.pb\r\n",
      "autoencoder_model/1/keras_metadata.pb\r\n",
      "autoencoder_model/1/assets/\r\n"
     ]
    }
   ],
   "source": [
    "!tar -czvf autoencoder_model.tar.gz -C model autoencoder_model\n"
   ]
  },
  {
   "cell_type": "code",
   "execution_count": null,
   "id": "d78c4c3f",
   "metadata": {},
   "outputs": [],
   "source": [
    "!aws s3 cp autoencoder_model.tar.gz s3://\"fill with your bucketname\"/models/autoencoder_model.tar.gz\n"
   ]
  },
  {
   "cell_type": "code",
   "execution_count": 35,
   "id": "78a4da82",
   "metadata": {},
   "outputs": [],
   "source": [
    "from sagemaker.tensorflow import TensorFlowModel\n",
    "import sagemaker\n",
    "model_path = 'models/autoencoder_model.tar.gz'  # S3 path to store the model\n",
    "bucket_name= '' #fill with your bucketname\n",
    "# SageMaker session and role\n",
    "sagemaker_session = sagemaker.Session()\n",
    "role = 'arn:aws:iam::YOUR-AWS-ID:role/service-role/AmazonSageMaker-ExecutionRole-20241123T164229'  # Replace with your IAM role ARN\n",
    "# Define the TensorFlow model\n",
    "tf_model = TensorFlowModel(\n",
    "    model_data=f\"s3://{bucket_name}/{model_path}\",\n",
    "    role=role,\n",
    "    framework_version=\"2.9.1\",  # Use TensorFlow version compatible with your model preferably the tensorflow versions:2.9.1,2.10.0,2.11\n",
    "    sagemaker_session=sagemaker_session\n",
    ")"
   ]
  },
  {
   "cell_type": "code",
   "execution_count": null,
   "id": "96851ba4",
   "metadata": {},
   "outputs": [],
   "source": [
    "# Deploy the model\n",
    "predictor = tf_model.deploy(\n",
    "    initial_instance_count=1,  # Number of instances\n",
    "    instance_type=\"ml.m6g.xlarge\"  # Adjust instance type as needed pls refer to this aws docs page to see the instance type that are compatible with your tensorflow version (\"https://docs.aws.amazon.com/sagemaker/latest/dg/training-compiler-support.html\")\n",
    ")\n",
    "\n",
    "print(f\"Model deployed at endpoint: {predictor.endpoint_name}\")\n"
   ]
  }
 ],
 "metadata": {
  "kernelspec": {
   "display_name": "conda_python3",
   "language": "python",
   "name": "conda_python3"
  },
  "language_info": {
   "codemirror_mode": {
    "name": "ipython",
    "version": 3
   },
   "file_extension": ".py",
   "mimetype": "text/x-python",
   "name": "python",
   "nbconvert_exporter": "python",
   "pygments_lexer": "ipython3",
   "version": "3.10.15"
  }
 },
 "nbformat": 4,
 "nbformat_minor": 5
}
